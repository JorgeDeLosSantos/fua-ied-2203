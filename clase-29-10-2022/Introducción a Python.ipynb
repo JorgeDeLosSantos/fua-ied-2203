{
 "cells": [
  {
   "cell_type": "markdown",
   "metadata": {
    "slideshow": {
     "slide_type": "slide"
    }
   },
   "source": [
    "# Una breve introducción a Python"
   ]
  },
  {
   "cell_type": "markdown",
   "metadata": {
    "slideshow": {
     "slide_type": "slide"
    }
   },
   "source": [
    "## ¿Qué es Python?\n",
    "\n",
    "* Un lenguaje de programación de propósito general, interpretado, de tipado dinámico, multiparadigma y de alto nivel. \n",
    "* De código abierto, libre y multiplataforma. \n",
    "* Útil para el desarrollo rápido de aplicaciones."
   ]
  },
  {
   "cell_type": "markdown",
   "metadata": {
    "slideshow": {
     "slide_type": "slide"
    }
   },
   "source": [
    "## ¿Por qué aprender Python?\n",
    "\n",
    "* En comparación con otros lenguajes, Python tiene una curva de aprendizaje suave que lo hace productivo desde etapas tempranas.\n",
    "* Se ha vuelto extremadamente popular en el mundo de la ciencia de datos."
   ]
  },
  {
   "cell_type": "markdown",
   "metadata": {
    "slideshow": {
     "slide_type": "subslide"
    }
   },
   "source": [
    "* Se puede ejecutar en casi todas partes y tiene *pilas incluidas*, una gran cantidad de software útil en su biblioteca estándar.\n",
    "* Es un lenguaje muy popular para aplicaciones de IoT.\n",
    "* Existen multitud de librerías para aplicaciones muy diversas.\n",
    "* Comunidad enorme."
   ]
  },
  {
   "cell_type": "markdown",
   "metadata": {
    "slideshow": {
     "slide_type": "slide"
    }
   },
   "source": [
    "## Python y su popularidad\n",
    "\n",
    "* https://www.tiobe.com/tiobe-index/\n",
    "* https://survey.stackoverflow.co/2022/"
   ]
  },
  {
   "cell_type": "markdown",
   "metadata": {
    "slideshow": {
     "slide_type": "slide"
    }
   },
   "source": [
    "## Algunas aplicaciones de Python\n",
    "\n",
    "* Ciencia de datos\n",
    "* Machine Learning\n",
    "* Desarrollo web\n",
    "* Procesamiento de imágenes"
   ]
  },
  {
   "cell_type": "markdown",
   "metadata": {
    "slideshow": {
     "slide_type": "subslide"
    }
   },
   "source": [
    "* Seguridad informática\n",
    "* Videojuegos\n",
    "* Desarrollo de software\n",
    "* Robótica"
   ]
  },
  {
   "cell_type": "markdown",
   "metadata": {
    "slideshow": {
     "slide_type": "slide"
    }
   },
   "source": [
    "## Repositorio del curso\n",
    "\n",
    "[https://github.com/JorgeDeLosSantos/fua-ied-2203](https://github.com/JorgeDeLosSantos/fua-ied-2203)"
   ]
  }
 ],
 "metadata": {
  "celltoolbar": "Slideshow",
  "kernelspec": {
   "display_name": "Python 3 (ipykernel)",
   "language": "python",
   "name": "python3"
  },
  "language_info": {
   "codemirror_mode": {
    "name": "ipython",
    "version": 3
   },
   "file_extension": ".py",
   "mimetype": "text/x-python",
   "name": "python",
   "nbconvert_exporter": "python",
   "pygments_lexer": "ipython3",
   "version": "3.9.12"
  }
 },
 "nbformat": 4,
 "nbformat_minor": 4
}
