{
 "cells": [
  {
   "cell_type": "markdown",
   "id": "e8afeffa",
   "metadata": {},
   "source": [
    "# Clase del 05/11/2022"
   ]
  },
  {
   "cell_type": "markdown",
   "id": "d268e6d9",
   "metadata": {},
   "source": [
    "## Creando variables"
   ]
  },
  {
   "cell_type": "code",
   "execution_count": 1,
   "id": "73240810",
   "metadata": {},
   "outputs": [
    {
     "name": "stdout",
     "output_type": "stream",
     "text": [
      "10 50 60\n"
     ]
    }
   ],
   "source": [
    "a = 10\n",
    "b = 50\n",
    "c = a + b \n",
    "print(a,b,c)"
   ]
  },
  {
   "cell_type": "markdown",
   "id": "49d1b237",
   "metadata": {},
   "source": [
    "¿Qué está mal con la siguiente asignación?"
   ]
  },
  {
   "cell_type": "code",
   "execution_count": 2,
   "id": "590ee0c4",
   "metadata": {},
   "outputs": [
    {
     "ename": "SyntaxError",
     "evalue": "cannot assign to operator (3646485998.py, line 1)",
     "output_type": "error",
     "traceback": [
      "\u001b[1;36m  Input \u001b[1;32mIn [2]\u001b[1;36m\u001b[0m\n\u001b[1;33m    nombre-alumno = 10\u001b[0m\n\u001b[1;37m    ^\u001b[0m\n\u001b[1;31mSyntaxError\u001b[0m\u001b[1;31m:\u001b[0m cannot assign to operator\n"
     ]
    }
   ],
   "source": [
    "nombre-alumno = 10"
   ]
  },
  {
   "cell_type": "code",
   "execution_count": 3,
   "id": "e703ccc9",
   "metadata": {},
   "outputs": [
    {
     "ename": "SyntaxError",
     "evalue": "invalid syntax (1297430303.py, line 1)",
     "output_type": "error",
     "traceback": [
      "\u001b[1;36m  Input \u001b[1;32mIn [3]\u001b[1;36m\u001b[0m\n\u001b[1;33m    radio. = 5\u001b[0m\n\u001b[1;37m           ^\u001b[0m\n\u001b[1;31mSyntaxError\u001b[0m\u001b[1;31m:\u001b[0m invalid syntax\n"
     ]
    }
   ],
   "source": [
    "radio. = 5"
   ]
  },
  {
   "cell_type": "markdown",
   "id": "2993f95c",
   "metadata": {},
   "source": [
    "### Asignación múltiple"
   ]
  },
  {
   "cell_type": "code",
   "execution_count": 4,
   "id": "6bcb0841",
   "metadata": {},
   "outputs": [
    {
     "name": "stdout",
     "output_type": "stream",
     "text": [
      "5 6 7\n"
     ]
    }
   ],
   "source": [
    "x,y,z = 5,6,7\n",
    "print(x,y,z)"
   ]
  },
  {
   "cell_type": "markdown",
   "id": "d4381f56",
   "metadata": {},
   "source": [
    "### ¿Cómo ver las variables que hemos creado?"
   ]
  },
  {
   "cell_type": "code",
   "execution_count": 5,
   "id": "c944bb48",
   "metadata": {},
   "outputs": [
    {
     "name": "stdout",
     "output_type": "stream",
     "text": [
      "Variable   Type    Data/Info\n",
      "----------------------------\n",
      "a          int     10\n",
      "b          int     50\n",
      "c          int     60\n",
      "x          int     5\n",
      "y          int     6\n",
      "z          int     7\n"
     ]
    }
   ],
   "source": [
    "# Esto sólo funciona en Jupyter \n",
    "%whos"
   ]
  },
  {
   "cell_type": "markdown",
   "id": "0344ad4b",
   "metadata": {},
   "source": [
    "### ¿Cómo identificar el tipo de dato de una variable/objeto?"
   ]
  },
  {
   "cell_type": "code",
   "execution_count": 6,
   "id": "29229682",
   "metadata": {},
   "outputs": [
    {
     "name": "stdout",
     "output_type": "stream",
     "text": [
      "<class 'int'> <class 'str'> <class 'float'> <class 'bool'>\n"
     ]
    }
   ],
   "source": [
    "n = 3000\n",
    "f = \"Hola\"\n",
    "s = 12.57\n",
    "g = True\n",
    "\n",
    "print(type(n), type(f), type(s), type(g))"
   ]
  },
  {
   "cell_type": "markdown",
   "id": "761d80c9",
   "metadata": {},
   "source": [
    "## Algunos tipos de datos básicos"
   ]
  },
  {
   "cell_type": "markdown",
   "id": "ceb3c4a6",
   "metadata": {},
   "source": [
    "### Enteros"
   ]
  },
  {
   "cell_type": "code",
   "execution_count": 7,
   "id": "c437ff75",
   "metadata": {},
   "outputs": [
    {
     "name": "stdout",
     "output_type": "stream",
     "text": [
      "<class 'int'> <class 'int'> <class 'int'> <class 'float'>\n"
     ]
    }
   ],
   "source": [
    "a = 100\n",
    "b = 20\n",
    "c = a + b\n",
    "d = a / b\n",
    "print(type(a), type(b), type(c), type(d))"
   ]
  },
  {
   "cell_type": "markdown",
   "id": "c8941180",
   "metadata": {},
   "source": [
    "### De punto flotante"
   ]
  },
  {
   "cell_type": "code",
   "execution_count": 8,
   "id": "cca20770",
   "metadata": {},
   "outputs": [
    {
     "name": "stdout",
     "output_type": "stream",
     "text": [
      "<class 'float'> <class 'float'>\n"
     ]
    }
   ],
   "source": [
    "x = 50.\n",
    "y = 10.5\n",
    "print(type(x), type(y))"
   ]
  },
  {
   "cell_type": "markdown",
   "id": "b6c9c9db",
   "metadata": {},
   "source": [
    "### Booleanos"
   ]
  },
  {
   "cell_type": "code",
   "execution_count": 9,
   "id": "08027922",
   "metadata": {},
   "outputs": [
    {
     "name": "stdout",
     "output_type": "stream",
     "text": [
      "<class 'bool'> <class 'bool'>\n"
     ]
    }
   ],
   "source": [
    "r = True\n",
    "s = 5 > 10\n",
    "print(type(r), type(s))"
   ]
  },
  {
   "cell_type": "markdown",
   "id": "15cb68b0",
   "metadata": {},
   "source": [
    "### Cadenas de caracteres"
   ]
  },
  {
   "cell_type": "code",
   "execution_count": 10,
   "id": "561f6e10",
   "metadata": {},
   "outputs": [
    {
     "name": "stdout",
     "output_type": "stream",
     "text": [
      "<class 'str'> <class 'str'>\n"
     ]
    }
   ],
   "source": [
    "nombre = \"Ana\"\n",
    "saludo = \"Hola\"\n",
    "print(type(nombre), type(saludo))"
   ]
  },
  {
   "cell_type": "markdown",
   "id": "d3786a93",
   "metadata": {},
   "source": [
    "<hr style=\"border: solid 2px; color: #ff0000;\">\n",
    "\n",
    "## Reto 1\n",
    "\n",
    "¿Puedes identificar el tipo de dato de cada una de las siguientes variables?\n",
    "\n",
    "```python\n",
    "a = \"5.35\"\n",
    "b = 1050\n",
    "c = 4.8\n",
    "d = 'hola'\n",
    "e = b - 5.0\n",
    "```\n",
    "\n",
    "Trata de identificarlas y corrobora descomentando y ejecutando la siguiente celda:"
   ]
  },
  {
   "cell_type": "code",
   "execution_count": 37,
   "id": "ac69e96c",
   "metadata": {},
   "outputs": [],
   "source": [
    "# a = \"5.35\"\n",
    "# b = 1050\n",
    "# c = 4.8\n",
    "# d = 'hola'\n",
    "# e = b - 5.0\n",
    "# print(type(a),type(b),type(c),type(d),type(e),sep=\"\\n\")"
   ]
  },
  {
   "cell_type": "markdown",
   "id": "b5f65bf5",
   "metadata": {},
   "source": [
    "<hr style=\"border: solid 2px; color: #ff0000;\">"
   ]
  },
  {
   "cell_type": "markdown",
   "id": "8b3cd6cb",
   "metadata": {},
   "source": [
    "## Conversiones entre tipos de datos"
   ]
  },
  {
   "cell_type": "markdown",
   "id": "56f19a59",
   "metadata": {},
   "source": [
    "### De `str` a `int`"
   ]
  },
  {
   "cell_type": "code",
   "execution_count": 38,
   "id": "4085c76c",
   "metadata": {},
   "outputs": [
    {
     "name": "stdout",
     "output_type": "stream",
     "text": [
      "20\n"
     ]
    }
   ],
   "source": [
    "a = 10\n",
    "b = \"10\"\n",
    "print( a+int(b) )"
   ]
  },
  {
   "cell_type": "markdown",
   "id": "26e564d6",
   "metadata": {},
   "source": [
    "### De `str` a `float`"
   ]
  },
  {
   "cell_type": "code",
   "execution_count": 39,
   "id": "5950652e",
   "metadata": {},
   "outputs": [
    {
     "name": "stdout",
     "output_type": "stream",
     "text": [
      "9.8\n"
     ]
    }
   ],
   "source": [
    "a = 4.3\n",
    "b = \"5.5\"\n",
    "print( a+float(b) )"
   ]
  },
  {
   "cell_type": "markdown",
   "id": "ee379f1c",
   "metadata": {},
   "source": [
    "### De `float` a `str`"
   ]
  },
  {
   "cell_type": "code",
   "execution_count": 40,
   "id": "e9785e50",
   "metadata": {},
   "outputs": [
    {
     "name": "stdout",
     "output_type": "stream",
     "text": [
      "6.2832\n",
      "3.14163.1416\n"
     ]
    }
   ],
   "source": [
    "a = 3.1416\n",
    "b = str(a)\n",
    "print(a+a)\n",
    "print(b+b)"
   ]
  },
  {
   "cell_type": "markdown",
   "id": "688239e9",
   "metadata": {},
   "source": [
    "### De `int` a `str`"
   ]
  },
  {
   "cell_type": "code",
   "execution_count": 41,
   "id": "3ef21a53",
   "metadata": {},
   "outputs": [
    {
     "name": "stdout",
     "output_type": "stream",
     "text": [
      "51\n",
      "171717\n"
     ]
    }
   ],
   "source": [
    "x = 17\n",
    "y = str(x)\n",
    "print(3*x)\n",
    "print(3*y)"
   ]
  },
  {
   "cell_type": "markdown",
   "id": "d8654563",
   "metadata": {},
   "source": [
    "## Los operadores aritméticos"
   ]
  },
  {
   "cell_type": "markdown",
   "id": "0acba178",
   "metadata": {},
   "source": [
    "| Operador | Operación |\n",
    "| -------- | --------- |\n",
    "| `+` | Suma |\n",
    "| `-` | Resta |\n",
    "| `*` | Multiplicación |\n",
    "| `/` | División |\n",
    "| `//` | División entera |\n",
    "| `%` | Módulo |\n",
    "| `**` | Exponenciación |"
   ]
  },
  {
   "cell_type": "code",
   "execution_count": 19,
   "id": "64aea520",
   "metadata": {},
   "outputs": [
    {
     "data": {
      "text/plain": [
       "900"
      ]
     },
     "execution_count": 19,
     "metadata": {},
     "output_type": "execute_result"
    }
   ],
   "source": [
    "100 + 300 + 500"
   ]
  },
  {
   "cell_type": "code",
   "execution_count": 20,
   "id": "56c27ac5",
   "metadata": {},
   "outputs": [
    {
     "data": {
      "text/plain": [
       "25"
      ]
     },
     "execution_count": 20,
     "metadata": {},
     "output_type": "execute_result"
    }
   ],
   "source": [
    "100 - 50 - 25"
   ]
  },
  {
   "cell_type": "code",
   "execution_count": 21,
   "id": "c0a0e664",
   "metadata": {},
   "outputs": [
    {
     "data": {
      "text/plain": [
       "12"
      ]
     },
     "execution_count": 21,
     "metadata": {},
     "output_type": "execute_result"
    }
   ],
   "source": [
    "2*2*3"
   ]
  },
  {
   "cell_type": "code",
   "execution_count": 22,
   "id": "5f6ea6e2",
   "metadata": {},
   "outputs": [
    {
     "data": {
      "text/plain": [
       "7.5"
      ]
     },
     "execution_count": 22,
     "metadata": {},
     "output_type": "execute_result"
    }
   ],
   "source": [
    "15 / 2"
   ]
  },
  {
   "cell_type": "code",
   "execution_count": 23,
   "id": "f6ff0c24",
   "metadata": {},
   "outputs": [
    {
     "data": {
      "text/plain": [
       "7"
      ]
     },
     "execution_count": 23,
     "metadata": {},
     "output_type": "execute_result"
    }
   ],
   "source": [
    "15 // 2"
   ]
  },
  {
   "cell_type": "code",
   "execution_count": 24,
   "id": "ce88c0c1",
   "metadata": {},
   "outputs": [
    {
     "data": {
      "text/plain": [
       "1"
      ]
     },
     "execution_count": 24,
     "metadata": {},
     "output_type": "execute_result"
    }
   ],
   "source": [
    "15 % 2"
   ]
  },
  {
   "cell_type": "code",
   "execution_count": 25,
   "id": "f275da3b",
   "metadata": {},
   "outputs": [
    {
     "data": {
      "text/plain": [
       "16"
      ]
     },
     "execution_count": 25,
     "metadata": {},
     "output_type": "execute_result"
    }
   ],
   "source": [
    "2**4"
   ]
  },
  {
   "cell_type": "markdown",
   "id": "d6e54d0d",
   "metadata": {},
   "source": [
    "## Expresiones aritméticas"
   ]
  },
  {
   "cell_type": "markdown",
   "id": "4e87a942",
   "metadata": {},
   "source": [
    "Evalúa cada una de las siguientes expresiones:"
   ]
  },
  {
   "cell_type": "markdown",
   "id": "b664c441",
   "metadata": {},
   "source": [
    "<hr style=\"border: solid 2px; color: #38ba8f;\">\n",
    "\n",
    "$$ 300 + 200 - 12 $$"
   ]
  },
  {
   "cell_type": "code",
   "execution_count": 42,
   "id": "d173f1b5",
   "metadata": {},
   "outputs": [
    {
     "data": {
      "text/plain": [
       "488"
      ]
     },
     "execution_count": 42,
     "metadata": {},
     "output_type": "execute_result"
    }
   ],
   "source": [
    "300 + 200 - 12"
   ]
  },
  {
   "cell_type": "markdown",
   "id": "213ccf78",
   "metadata": {},
   "source": [
    "<hr style=\"border: solid 2px; color: #38ba8f;\">\n",
    "$$ 1 + 2 + 3(6-1) + 7(4+5) $$"
   ]
  },
  {
   "cell_type": "code",
   "execution_count": 43,
   "id": "03022655",
   "metadata": {},
   "outputs": [
    {
     "data": {
      "text/plain": [
       "81"
      ]
     },
     "execution_count": 43,
     "metadata": {},
     "output_type": "execute_result"
    }
   ],
   "source": [
    "1 + 2 + 3*(6-1) + 7*(4+5)"
   ]
  },
  {
   "cell_type": "markdown",
   "id": "aaf51013",
   "metadata": {},
   "source": [
    "<hr style=\"border: solid 2px; color: #38ba8f;\">\n",
    "$$ \\frac{1}{2} + \\frac{1}{3} $$"
   ]
  },
  {
   "cell_type": "code",
   "execution_count": 44,
   "id": "9ecaffda",
   "metadata": {},
   "outputs": [
    {
     "data": {
      "text/plain": [
       "0.8333333333333333"
      ]
     },
     "execution_count": 44,
     "metadata": {},
     "output_type": "execute_result"
    }
   ],
   "source": [
    "1/2 + 1/3"
   ]
  },
  {
   "cell_type": "markdown",
   "id": "bcd7433b",
   "metadata": {},
   "source": [
    "<hr style=\"border: solid 2px; color: #38ba8f;\">\n",
    "\n",
    "$$ 4^2 + 3^3 + 8^{1/3} $$"
   ]
  },
  {
   "cell_type": "code",
   "execution_count": 54,
   "id": "32df4988",
   "metadata": {},
   "outputs": [
    {
     "data": {
      "text/plain": [
       "45.0"
      ]
     },
     "execution_count": 54,
     "metadata": {},
     "output_type": "execute_result"
    }
   ],
   "source": [
    "4**2 + 3**3 + 8**(1/3)"
   ]
  },
  {
   "cell_type": "markdown",
   "id": "cc04cee2",
   "metadata": {},
   "source": [
    "<hr style=\"border: solid 2px; color: #38ba8f;\">\n",
    "$$ \\frac{18}{27^{1/3}} + \\frac{5^2}{3+2} $$"
   ]
  },
  {
   "cell_type": "code",
   "execution_count": 59,
   "id": "43d00bcb",
   "metadata": {},
   "outputs": [
    {
     "data": {
      "text/plain": [
       "11.0"
      ]
     },
     "execution_count": 59,
     "metadata": {},
     "output_type": "execute_result"
    }
   ],
   "source": [
    "18/(27**(1/3)) +  5**2 / (3+2)"
   ]
  },
  {
   "cell_type": "markdown",
   "id": "d0b64765",
   "metadata": {},
   "source": [
    "<hr style=\"border: solid 2px; color: #38ba8f;\">\n",
    "$$ \\sqrt{2} + \\sqrt{3} $$"
   ]
  },
  {
   "cell_type": "code",
   "execution_count": 64,
   "id": "28aaab30",
   "metadata": {},
   "outputs": [
    {
     "data": {
      "text/plain": [
       "2.4494897427831783"
      ]
     },
     "execution_count": 64,
     "metadata": {},
     "output_type": "execute_result"
    }
   ],
   "source": [
    "2**(1/2) * 3**(1/2)"
   ]
  },
  {
   "cell_type": "markdown",
   "id": "9a428606",
   "metadata": {},
   "source": [
    "<hr style=\"border: solid 2px; color: #38ba8f;\">\n",
    "$$ \\frac{x}{\\sqrt{y}} + x^2 y^2  $$\n",
    "\n",
    "Si $x = 5$ y $ y = 4 $"
   ]
  },
  {
   "cell_type": "code",
   "execution_count": 68,
   "id": "6b619069",
   "metadata": {},
   "outputs": [
    {
     "data": {
      "text/plain": [
       "402.5"
      ]
     },
     "execution_count": 68,
     "metadata": {},
     "output_type": "execute_result"
    }
   ],
   "source": [
    "x = 5\n",
    "y = 4\n",
    "\n",
    "x / y**(1/2) + x**2 * y**2 "
   ]
  },
  {
   "cell_type": "markdown",
   "id": "9da9a24b",
   "metadata": {},
   "source": [
    "<hr style=\"border: solid 2px; color: #ff0000;\">\n",
    "\n",
    "## Reto 2\n",
    "\n",
    "Dada la siguiente expresión aritmética:\n",
    "\n",
    "$$ \\frac{\\sqrt{9}}{2} + \\frac{20}{3^2 - 4} $$\n",
    "\n",
    "¿Cuál de las siguientes expresiones algorítmicas es la correcta?"
   ]
  },
  {
   "cell_type": "code",
   "execution_count": 73,
   "id": "13c0e6cc",
   "metadata": {},
   "outputs": [
    {
     "data": {
      "text/plain": [
       "5.5"
      ]
     },
     "execution_count": 73,
     "metadata": {},
     "output_type": "execute_result"
    }
   ],
   "source": [
    "# Opción a)\n",
    "9**(1/2) / 2 + 20 / (3**2 - 4)"
   ]
  },
  {
   "cell_type": "code",
   "execution_count": 74,
   "id": "2286cc75",
   "metadata": {},
   "outputs": [
    {
     "data": {
      "text/plain": [
       "6.25"
      ]
     },
     "execution_count": 74,
     "metadata": {},
     "output_type": "execute_result"
    }
   ],
   "source": [
    "# Opción b)\n",
    "( (9**1/2) / 2 ) + ( 20 / (3**2 - 4) )"
   ]
  },
  {
   "cell_type": "markdown",
   "id": "88670f7e",
   "metadata": {},
   "source": [
    "<hr style=\"border: solid 2px; color: #ff0000;\">"
   ]
  },
  {
   "cell_type": "markdown",
   "id": "ca3d360c",
   "metadata": {},
   "source": [
    "## La función `print`"
   ]
  },
  {
   "cell_type": "code",
   "execution_count": 75,
   "id": "aef04048",
   "metadata": {},
   "outputs": [
    {
     "name": "stdout",
     "output_type": "stream",
     "text": [
      "1000\n"
     ]
    }
   ],
   "source": [
    "print(1000)"
   ]
  },
  {
   "cell_type": "code",
   "execution_count": 77,
   "id": "222dca26",
   "metadata": {},
   "outputs": [
    {
     "name": "stdout",
     "output_type": "stream",
     "text": [
      "1000 2000 3000 4000 5000\n"
     ]
    }
   ],
   "source": [
    "print(1000, 2000, 3000, 4000, 5000)"
   ]
  },
  {
   "cell_type": "code",
   "execution_count": 78,
   "id": "791b5afc",
   "metadata": {},
   "outputs": [
    {
     "name": "stdout",
     "output_type": "stream",
     "text": [
      "Hola 2000 True\n"
     ]
    }
   ],
   "source": [
    "print(\"Hola\", 2000, True)"
   ]
  },
  {
   "cell_type": "code",
   "execution_count": 92,
   "id": "7f260878",
   "metadata": {},
   "outputs": [
    {
     "name": "stdout",
     "output_type": "stream",
     "text": [
      "1000\n",
      "2000\n",
      "3000\n"
     ]
    }
   ],
   "source": [
    "print(1000)\n",
    "print(2000)\n",
    "print(3000)"
   ]
  },
  {
   "cell_type": "code",
   "execution_count": 93,
   "id": "6abaa791",
   "metadata": {},
   "outputs": [
    {
     "name": "stdout",
     "output_type": "stream",
     "text": [
      "1000\n",
      "2000\n",
      "3000\n"
     ]
    }
   ],
   "source": [
    "print(1000, 2000, 3000, sep=\"\\n\")"
   ]
  },
  {
   "cell_type": "code",
   "execution_count": 94,
   "id": "64e0f645",
   "metadata": {},
   "outputs": [
    {
     "name": "stdout",
     "output_type": "stream",
     "text": [
      "1000--2000--3000\n"
     ]
    }
   ],
   "source": [
    "print(1000, 2000, 3000, sep=\"--\")"
   ]
  },
  {
   "cell_type": "code",
   "execution_count": 95,
   "id": "adfcb229",
   "metadata": {},
   "outputs": [
    {
     "name": "stdout",
     "output_type": "stream",
     "text": [
      "1000😀2000😀3000\n"
     ]
    }
   ],
   "source": [
    "print(1000, 2000, 3000, sep=\"\\U0001F600\")"
   ]
  },
  {
   "cell_type": "markdown",
   "id": "563e32b5",
   "metadata": {},
   "source": [
    "## La función `input`"
   ]
  },
  {
   "cell_type": "code",
   "execution_count": 97,
   "id": "1cd8f56b",
   "metadata": {},
   "outputs": [
    {
     "name": "stdout",
     "output_type": "stream",
     "text": [
      "Ingrese un valor: 10\n"
     ]
    }
   ],
   "source": [
    "a = input(\"Ingrese un valor: \")"
   ]
  },
  {
   "cell_type": "code",
   "execution_count": 99,
   "id": "cafc066c",
   "metadata": {},
   "outputs": [
    {
     "name": "stdout",
     "output_type": "stream",
     "text": [
      "10 <class 'str'>\n"
     ]
    }
   ],
   "source": [
    "print(a, type(a))"
   ]
  },
  {
   "cell_type": "code",
   "execution_count": 102,
   "id": "b4f1c69b",
   "metadata": {},
   "outputs": [
    {
     "name": "stdout",
     "output_type": "stream",
     "text": [
      "Ingrese un valor: 10\n",
      "10.0 <class 'float'>\n"
     ]
    }
   ],
   "source": [
    "n = input(\"Ingrese un valor: \")\n",
    "n = float(n)\n",
    "print(n, type(n))"
   ]
  },
  {
   "cell_type": "code",
   "execution_count": 104,
   "id": "00e45e99",
   "metadata": {},
   "outputs": [
    {
     "name": "stdout",
     "output_type": "stream",
     "text": [
      "Ingrese un valor: 5\n",
      "5.0 <class 'float'>\n"
     ]
    }
   ],
   "source": [
    "n = float( input(\"Ingrese un valor: \") )\n",
    "print(n, type(n))"
   ]
  },
  {
   "cell_type": "code",
   "execution_count": null,
   "id": "9aa65053",
   "metadata": {},
   "outputs": [],
   "source": []
  }
 ],
 "metadata": {
  "kernelspec": {
   "display_name": "Python 3 (ipykernel)",
   "language": "python",
   "name": "python3"
  },
  "language_info": {
   "codemirror_mode": {
    "name": "ipython",
    "version": 3
   },
   "file_extension": ".py",
   "mimetype": "text/x-python",
   "name": "python",
   "nbconvert_exporter": "python",
   "pygments_lexer": "ipython3",
   "version": "3.9.12"
  }
 },
 "nbformat": 4,
 "nbformat_minor": 5
}
